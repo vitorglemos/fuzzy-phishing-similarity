{
 "cells": [
  {
   "cell_type": "code",
   "execution_count": 7,
   "metadata": {},
   "outputs": [],
   "source": [
    "import numpy as np\n",
    "\n",
    "\n",
    "def ratio_and_distance_algorithm(main_str: str, second_str: str, ratio_calculation = False):\n",
    "    rows, columns = len(main_str) + 1, len(second_str) + 1\n",
    "    distance = np.zeros((rows, columns),dtype = int)\n",
    "    for i_row in range(1, rows):\n",
    "        for j_column in range(1, columns):\n",
    "            distance[i_row][0] = i_row\n",
    "            distance[0][j_column] = j_column\n",
    "            \n",
    "    for col_i in range(1, columns):\n",
    "        for row_i in range(1, rows):\n",
    "            if main_str[row_i - 1] == second_str[col_i - 1]:\n",
    "                cost = 0 \n",
    "            else:\n",
    "                if ratio_calculation == True:\n",
    "                    cost = 2\n",
    "                else:\n",
    "                    cost = 1\n",
    "            distance[row_i][col_i] = min(distance[row_i - 1][col_i] + 1,     \n",
    "                                         distance[row_i][col_i - 1] + 1,         \n",
    "                                         distance[row_i - 1][col_i - 1] + cost)    \n",
    "        \n",
    "    if ratio_calculation == True:\n",
    "        ki = (len(main_str) + len(second_str))\n",
    "        total = (ki - distance[row_i][col_i]) / ki\n",
    "        return total\n",
    "    else:\n",
    "        return distance[row_i][col_i]   "
   ]
  },
  {
   "cell_type": "code",
   "execution_count": 13,
   "metadata": {},
   "outputs": [
    {
     "name": "stdout",
     "output_type": "stream",
     "text": [
      "facebook.com.checking.sycoexportimportltd.com 0.9032258064516129\n",
      "facebook.com.checking.sycoexportimportltd.com 0.9354838709677419\n",
      "facebook.com.checking.sycoexportimportltd.com 0.9354838709677419\n",
      "facebook.com.checking.sycoexportimportltd.com 0.7741935483870968\n",
      "facebook.com.checking.sycoexportimportltd.com 1.0\n",
      "facebook.com.checking.sycoexportimportltd.com 0.7105263157894737\n"
     ]
    }
   ],
   "source": [
    "phishing = {\"domain\": \"facebook.com.checking.fbklq.com\"}\n",
    "\n",
    "domains_test = [{\"domain\": \"facebook.com.checking.fbjdh.com\"},\n",
    "                {\"domain\": \"facebook.com.checking.fbyul.com\"},\n",
    "                {\"domain\": \"facebook.com.checking.fbkmw.com\"},\n",
    "                {\"domain\": \"facebook.com.check.dkert342.com\"},\n",
    "                {\"domain\": \"facebook.com.checking.fbklq.com\"},\n",
    "                {\"domain\": \"facebook.com.confirm.acc8911.com\"},\n",
    "                {\"domain\": \"facebook.com.br\"},\n",
    "                {\"domain\": \"facebook.com.verify.sjkryt53346.com\"},\n",
    "                {\"domain\": \"facebook.com.check.4355policychk404.com\"},\n",
    "                {\"domain\": \"facebook.com.checking.sycoexportimportltd.com\"}]\n",
    "\n",
    "\n",
    "for current in domains_test:\n",
    "    domain_test = current[\"domain\"]\n",
    "    distance = ratio_and_distance_algorithm(phishing[\"domain\"], domain_test)\n",
    "    threshold =  ratio_and_distance_algorithm(phishing[\"domain\"], domain_test, True)\n",
    "    print(domain_test,': ' threshold)"
   ]
  },
  {
   "cell_type": "code",
   "execution_count": null,
   "metadata": {},
   "outputs": [],
   "source": []
  }
 ],
 "metadata": {
  "kernelspec": {
   "display_name": "Python 3",
   "language": "python",
   "name": "python3"
  },
  "language_info": {
   "codemirror_mode": {
    "name": "ipython",
    "version": 3
   },
   "file_extension": ".py",
   "mimetype": "text/x-python",
   "name": "python",
   "nbconvert_exporter": "python",
   "pygments_lexer": "ipython3",
   "version": "3.8.5"
  }
 },
 "nbformat": 4,
 "nbformat_minor": 4
}
